{
 "cells": [
  {
   "cell_type": "markdown",
   "metadata": {},
   "source": [
    "# Bank Customer Churn Prediction Using Artificial Neural Network (ANN)"
   ]
  },
  {
   "cell_type": "markdown",
   "metadata": {},
   "source": [
    "Customer churn prediction is to measure why customers are leaving a business. In this tutorial we will be looking at customer churn in banking. We will build a deep learning model to predict the churn and use precision,recall, f1-score to measure performance of our model"
   ]
  },
  {
   "cell_type": "code",
   "execution_count": 48,
   "metadata": {},
   "outputs": [],
   "source": [
    "import pandas as pd\n",
    "from matplotlib import pyplot as plt\n",
    "import numpy as np\n",
    "%matplotlib inline"
   ]
  },
  {
   "cell_type": "code",
   "execution_count": 49,
   "metadata": {},
   "outputs": [],
   "source": [
    "df = pd.read_csv(\"Bank_customer_churn_data.csv\")"
   ]
  },
  {
   "cell_type": "code",
   "execution_count": 50,
   "metadata": {},
   "outputs": [
    {
     "data": {
      "text/plain": [
       "(10000, 14)"
      ]
     },
     "execution_count": 50,
     "metadata": {},
     "output_type": "execute_result"
    }
   ],
   "source": [
    "df.shape"
   ]
  },
  {
   "cell_type": "code",
   "execution_count": 51,
   "metadata": {},
   "outputs": [
    {
     "data": {
      "text/html": [
       "<div>\n",
       "<style scoped>\n",
       "    .dataframe tbody tr th:only-of-type {\n",
       "        vertical-align: middle;\n",
       "    }\n",
       "\n",
       "    .dataframe tbody tr th {\n",
       "        vertical-align: top;\n",
       "    }\n",
       "\n",
       "    .dataframe thead th {\n",
       "        text-align: right;\n",
       "    }\n",
       "</style>\n",
       "<table border=\"1\" class=\"dataframe\">\n",
       "  <thead>\n",
       "    <tr style=\"text-align: right;\">\n",
       "      <th></th>\n",
       "      <th>RowNumber</th>\n",
       "      <th>CustomerId</th>\n",
       "      <th>Surname</th>\n",
       "      <th>CreditScore</th>\n",
       "      <th>Geography</th>\n",
       "      <th>Gender</th>\n",
       "      <th>Age</th>\n",
       "      <th>Tenure</th>\n",
       "      <th>Balance</th>\n",
       "      <th>NumOfProducts</th>\n",
       "      <th>HasCrCard</th>\n",
       "      <th>IsActiveMember</th>\n",
       "      <th>EstimatedSalary</th>\n",
       "      <th>Exited</th>\n",
       "    </tr>\n",
       "  </thead>\n",
       "  <tbody>\n",
       "    <tr>\n",
       "      <td>5805</td>\n",
       "      <td>5806</td>\n",
       "      <td>15814236</td>\n",
       "      <td>Kay</td>\n",
       "      <td>537</td>\n",
       "      <td>Spain</td>\n",
       "      <td>Female</td>\n",
       "      <td>38</td>\n",
       "      <td>1</td>\n",
       "      <td>96939.06</td>\n",
       "      <td>1</td>\n",
       "      <td>1</td>\n",
       "      <td>1</td>\n",
       "      <td>102606.92</td>\n",
       "      <td>0</td>\n",
       "    </tr>\n",
       "    <tr>\n",
       "      <td>502</td>\n",
       "      <td>503</td>\n",
       "      <td>15714485</td>\n",
       "      <td>Udinese</td>\n",
       "      <td>774</td>\n",
       "      <td>France</td>\n",
       "      <td>Male</td>\n",
       "      <td>60</td>\n",
       "      <td>5</td>\n",
       "      <td>85891.55</td>\n",
       "      <td>1</td>\n",
       "      <td>1</td>\n",
       "      <td>0</td>\n",
       "      <td>74135.48</td>\n",
       "      <td>1</td>\n",
       "    </tr>\n",
       "    <tr>\n",
       "      <td>5985</td>\n",
       "      <td>5986</td>\n",
       "      <td>15702145</td>\n",
       "      <td>Edments</td>\n",
       "      <td>705</td>\n",
       "      <td>Spain</td>\n",
       "      <td>Male</td>\n",
       "      <td>33</td>\n",
       "      <td>7</td>\n",
       "      <td>68423.89</td>\n",
       "      <td>1</td>\n",
       "      <td>1</td>\n",
       "      <td>1</td>\n",
       "      <td>64872.55</td>\n",
       "      <td>0</td>\n",
       "    </tr>\n",
       "    <tr>\n",
       "      <td>7583</td>\n",
       "      <td>7584</td>\n",
       "      <td>15643574</td>\n",
       "      <td>Odinakachukwu</td>\n",
       "      <td>682</td>\n",
       "      <td>France</td>\n",
       "      <td>Male</td>\n",
       "      <td>26</td>\n",
       "      <td>8</td>\n",
       "      <td>0.00</td>\n",
       "      <td>2</td>\n",
       "      <td>1</td>\n",
       "      <td>0</td>\n",
       "      <td>178373.43</td>\n",
       "      <td>0</td>\n",
       "    </tr>\n",
       "    <tr>\n",
       "      <td>4882</td>\n",
       "      <td>4883</td>\n",
       "      <td>15771750</td>\n",
       "      <td>Sawtell</td>\n",
       "      <td>655</td>\n",
       "      <td>Germany</td>\n",
       "      <td>Female</td>\n",
       "      <td>36</td>\n",
       "      <td>10</td>\n",
       "      <td>122314.39</td>\n",
       "      <td>1</td>\n",
       "      <td>1</td>\n",
       "      <td>0</td>\n",
       "      <td>9181.66</td>\n",
       "      <td>0</td>\n",
       "    </tr>\n",
       "  </tbody>\n",
       "</table>\n",
       "</div>"
      ],
      "text/plain": [
       "      RowNumber  CustomerId        Surname  CreditScore Geography  Gender  \\\n",
       "5805       5806    15814236            Kay          537     Spain  Female   \n",
       "502         503    15714485        Udinese          774    France    Male   \n",
       "5985       5986    15702145        Edments          705     Spain    Male   \n",
       "7583       7584    15643574  Odinakachukwu          682    France    Male   \n",
       "4882       4883    15771750        Sawtell          655   Germany  Female   \n",
       "\n",
       "      Age  Tenure    Balance  NumOfProducts  HasCrCard  IsActiveMember  \\\n",
       "5805   38       1   96939.06              1          1               1   \n",
       "502    60       5   85891.55              1          1               0   \n",
       "5985   33       7   68423.89              1          1               1   \n",
       "7583   26       8       0.00              2          1               0   \n",
       "4882   36      10  122314.39              1          1               0   \n",
       "\n",
       "      EstimatedSalary  Exited  \n",
       "5805        102606.92       0  \n",
       "502          74135.48       1  \n",
       "5985         64872.55       0  \n",
       "7583        178373.43       0  \n",
       "4882          9181.66       0  "
      ]
     },
     "execution_count": 51,
     "metadata": {},
     "output_type": "execute_result"
    }
   ],
   "source": [
    "df.sample(5)"
   ]
  },
  {
   "cell_type": "markdown",
   "metadata": {},
   "source": [
    "By looking at above sample data, it seems, there are few columns, like RowNumber, customerId etc. has too many discrete valkues nd hence are of no use for the purpose of modeling."
   ]
  },
  {
   "cell_type": "markdown",
   "metadata": {},
   "source": [
    "Lets check for number of unique values for each columns"
   ]
  },
  {
   "cell_type": "code",
   "execution_count": 52,
   "metadata": {},
   "outputs": [
    {
     "data": {
      "text/plain": [
       "RowNumber          10000\n",
       "CustomerId         10000\n",
       "Surname             2932\n",
       "CreditScore          460\n",
       "Geography              3\n",
       "Gender                 2\n",
       "Age                   70\n",
       "Tenure                11\n",
       "Balance             6382\n",
       "NumOfProducts          4\n",
       "HasCrCard              2\n",
       "IsActiveMember         2\n",
       "EstimatedSalary     9999\n",
       "Exited                 2\n",
       "dtype: int64"
      ]
     },
     "execution_count": 52,
     "metadata": {},
     "output_type": "execute_result"
    }
   ],
   "source": [
    "df.nunique()"
   ]
  },
  {
   "cell_type": "code",
   "execution_count": 53,
   "metadata": {},
   "outputs": [
    {
     "data": {
      "text/plain": [
       "RowNumber            int64\n",
       "CustomerId           int64\n",
       "Surname             object\n",
       "CreditScore          int64\n",
       "Geography           object\n",
       "Gender              object\n",
       "Age                  int64\n",
       "Tenure               int64\n",
       "Balance            float64\n",
       "NumOfProducts        int64\n",
       "HasCrCard            int64\n",
       "IsActiveMember       int64\n",
       "EstimatedSalary    float64\n",
       "Exited               int64\n",
       "dtype: object"
      ]
     },
     "execution_count": 53,
     "metadata": {},
     "output_type": "execute_result"
    }
   ],
   "source": [
    "df.dtypes"
   ]
  },
  {
   "cell_type": "markdown",
   "metadata": {},
   "source": [
    "It seems that, RowNumbers and Customer ID has as many values as number of rows in the dta. Hence we need to <b> remove RowNumbers and Customer ID</b>.\n",
    "\n",
    "We cn also <b> remove the surname </b>, as it has 2932 discrete values and seems of no use for model building.\n",
    "\n",
    "We will <b>keep credit score</b>, which is of integer type having 460 unique values, this seems a continuous variable.\n",
    "\n",
    "Geography has 3 values and Gender has 2 values, both are of object type. Hence we need to Lable Encode them. We will do the same using Label Encoder.\n",
    "\n",
    "Age, Tenure both are of integer type, either we can keep them as it is or we can make ranges. Here I am keeping them as it is. We may need to <b> scale </b> them in order to get effecient model.\n",
    "\n",
    "Balance and Number of product, we will keep them as it is.\n",
    "\n",
    "HasCr Card and IsActiveMember, both has only 2 values, and thats too of integer type, so we will keep them as it is.\n",
    "\n",
    "EstimatedSalary as it is. We may need to scale this variable.\n",
    "\n",
    "Exited 2 values of Integer type. We will keep this as it is. It will be my target variable."
   ]
  },
  {
   "cell_type": "code",
   "execution_count": 54,
   "metadata": {},
   "outputs": [],
   "source": [
    "df.drop('RowNumber',axis='columns',inplace=True)\n",
    "df.drop('CustomerId',axis='columns',inplace=True)\n",
    "df.drop('Surname',axis='columns',inplace=True)"
   ]
  },
  {
   "cell_type": "code",
   "execution_count": 55,
   "metadata": {},
   "outputs": [
    {
     "data": {
      "text/plain": [
       "CreditScore          int64\n",
       "Geography           object\n",
       "Gender              object\n",
       "Age                  int64\n",
       "Tenure               int64\n",
       "Balance            float64\n",
       "NumOfProducts        int64\n",
       "HasCrCard            int64\n",
       "IsActiveMember       int64\n",
       "EstimatedSalary    float64\n",
       "Exited               int64\n",
       "dtype: object"
      ]
     },
     "execution_count": 55,
     "metadata": {},
     "output_type": "execute_result"
    }
   ],
   "source": [
    "df.dtypes"
   ]
  },
  {
   "cell_type": "code",
   "execution_count": 56,
   "metadata": {},
   "outputs": [
    {
     "data": {
      "text/plain": [
       "CreditScore         460\n",
       "Geography             3\n",
       "Gender                2\n",
       "Age                  70\n",
       "Tenure               11\n",
       "Balance            6382\n",
       "NumOfProducts         4\n",
       "HasCrCard             2\n",
       "IsActiveMember        2\n",
       "EstimatedSalary    9999\n",
       "Exited                2\n",
       "dtype: int64"
      ]
     },
     "execution_count": 56,
     "metadata": {},
     "output_type": "execute_result"
    }
   ],
   "source": [
    "df.nunique()"
   ]
  },
  {
   "cell_type": "code",
   "execution_count": 57,
   "metadata": {},
   "outputs": [],
   "source": [
    "def print_unique_col_values(df):\n",
    "       for column in df:\n",
    "            if df[column].dtypes=='object':\n",
    "                print(f'{column}: {df[column].unique()}')"
   ]
  },
  {
   "cell_type": "code",
   "execution_count": 58,
   "metadata": {},
   "outputs": [
    {
     "name": "stdout",
     "output_type": "stream",
     "text": [
      "Geography: ['France' 'Spain' 'Germany']\n",
      "Gender: ['Female' 'Male']\n"
     ]
    }
   ],
   "source": [
    "print_unique_col_values(df)"
   ]
  },
  {
   "cell_type": "code",
   "execution_count": 59,
   "metadata": {},
   "outputs": [],
   "source": [
    "df['Gender'].replace({'Female':1,'Male':0},inplace=True)"
   ]
  },
  {
   "cell_type": "code",
   "execution_count": 60,
   "metadata": {},
   "outputs": [
    {
     "name": "stdout",
     "output_type": "stream",
     "text": [
      "CreditScore: [619 608 502 699 850 645 822 376 501 684 528 497 476 549 635 616 653 587\n",
      " 726 732 636 510 669 846 577 756 571 574 411 591 533 553 520 722 475 490\n",
      " 804 582 472 465 556 834 660 776 829 637 550 698 585 788 655 601 656 725\n",
      " 511 614 742 687 555 603 751 581 735 661 675 738 813 657 604 519 664 678\n",
      " 757 416 665 777 543 506 493 652 750 729 646 647 808 524 769 730 515 773\n",
      " 814 710 413 623 670 622 785 605 479 685 538 562 721 628 668 828 674 625\n",
      " 432 770 758 795 686 789 589 461 584 579 663 682 793 691 485 650 754 535\n",
      " 716 539 706 586 631 717 800 683 704 615 667 484 480 578 512 606 597 778\n",
      " 514 525 715 580 807 521 759 516 711 618 643 671 689 620 676 572 695 592\n",
      " 567 694 547 594 673 610 767 763 712 703 662 659 523 772 545 634 739 771\n",
      " 681 544 696 766 727 693 557 531 498 651 791 733 811 707 714 782 775 799\n",
      " 602 744 588 747 583 627 731 629 438 642 806 474 559 429 680 749 734 644\n",
      " 626 649 805 718 840 630 654 762 568 613 522 737 648 443 640 540 460 593\n",
      " 801 611 802 745 483 690 492 709 705 560 752 701 537 487 596 702 486 724\n",
      " 548 464 790 534 748 494 590 468 509 818 816 536 753 774 621 569 658 798\n",
      " 641 542 692 639 765 570 638 599 632 779 527 564 833 504 842 508 417 598\n",
      " 741 607 761 848 546 439 755 760 526 713 700 666 566 495 688 612 477 427\n",
      " 839 819 720 459 503 624 529 563 482 796 445 746 786 554 672 787 499 844\n",
      " 450 815 838 803 736 633 600 679 517 792 743 488 421 841 708 507 505 456\n",
      " 435 561 518 565 728 784 552 609 764 697 723 551 444 719 496 541 830 812\n",
      " 677 420 595 617 809 500 826 434 513 478 797 363 399 463 780 452 575 837\n",
      " 794 824 428 823 781 849 489 431 457 768 831 359 820 573 576 558 817 449\n",
      " 440 415 821 530 350 446 425 740 481 783 358 845 451 458 469 423 404 836\n",
      " 473 835 466 491 351 827 843 365 532 414 453 471 401 810 832 470 447 422\n",
      " 825 430 436 426 408 847 418 437 410 454 407 455 462 386 405 383 395 467\n",
      " 433 442 424 448 441 367 412 382 373 419]\n",
      "Geography: ['France' 'Spain' 'Germany']\n",
      "Gender: [1 0]\n",
      "Age: [42 41 39 43 44 50 29 27 31 24 34 25 35 45 58 32 38 46 36 33 40 51 61 49\n",
      " 37 19 66 56 26 21 55 75 22 30 28 65 48 52 57 73 47 54 72 20 67 79 62 53\n",
      " 80 59 68 23 60 70 63 64 18 82 69 74 71 76 77 88 85 84 78 81 92 83]\n",
      "Tenure: [ 2  1  8  7  4  6  3 10  5  9  0]\n",
      "Balance: [     0.    83807.86 159660.8  ...  57369.61  75075.31 130142.79]\n",
      "NumOfProducts: [1 3 2 4]\n",
      "HasCrCard: [1 0]\n",
      "IsActiveMember: [1 0]\n",
      "EstimatedSalary: [101348.88 112542.58 113931.57 ...  42085.58  92888.52  38190.78]\n",
      "Exited: [1 0]\n"
     ]
    }
   ],
   "source": [
    "for col in df:\n",
    "    print(f'{col}: {df[col].unique()}')"
   ]
  },
  {
   "cell_type": "code",
   "execution_count": 61,
   "metadata": {},
   "outputs": [
    {
     "name": "stdout",
     "output_type": "stream",
     "text": [
      "Geography: ['France' 'Spain' 'Germany']\n"
     ]
    }
   ],
   "source": [
    "print_unique_col_values(df)"
   ]
  },
  {
   "cell_type": "markdown",
   "metadata": {},
   "source": [
    "One hot encoding for categorical columns"
   ]
  },
  {
   "cell_type": "code",
   "execution_count": 91,
   "metadata": {},
   "outputs": [
    {
     "data": {
      "text/plain": [
       "Index(['CreditScore', 'Gender', 'Age', 'Tenure', 'Balance', 'NumOfProducts',\n",
       "       'HasCrCard', 'IsActiveMember', 'EstimatedSalary', 'Exited',\n",
       "       'Geography_Germany', 'Geography_Spain'],\n",
       "      dtype='object')"
      ]
     },
     "execution_count": 91,
     "metadata": {},
     "output_type": "execute_result"
    }
   ],
   "source": [
    "df1 = pd.get_dummies(data=df, columns=['Geography'],drop_first=True)\n",
    "df1.columns"
   ]
  },
  {
   "cell_type": "markdown",
   "metadata": {},
   "source": [
    "Dummy Value Trape"
   ]
  },
  {
   "cell_type": "code",
   "execution_count": 92,
   "metadata": {},
   "outputs": [
    {
     "data": {
      "text/html": [
       "<div>\n",
       "<style scoped>\n",
       "    .dataframe tbody tr th:only-of-type {\n",
       "        vertical-align: middle;\n",
       "    }\n",
       "\n",
       "    .dataframe tbody tr th {\n",
       "        vertical-align: top;\n",
       "    }\n",
       "\n",
       "    .dataframe thead th {\n",
       "        text-align: right;\n",
       "    }\n",
       "</style>\n",
       "<table border=\"1\" class=\"dataframe\">\n",
       "  <thead>\n",
       "    <tr style=\"text-align: right;\">\n",
       "      <th></th>\n",
       "      <th>CreditScore</th>\n",
       "      <th>Gender</th>\n",
       "      <th>Age</th>\n",
       "      <th>Tenure</th>\n",
       "      <th>Balance</th>\n",
       "      <th>NumOfProducts</th>\n",
       "      <th>HasCrCard</th>\n",
       "      <th>IsActiveMember</th>\n",
       "      <th>EstimatedSalary</th>\n",
       "      <th>Exited</th>\n",
       "      <th>Geography_Germany</th>\n",
       "      <th>Geography_Spain</th>\n",
       "    </tr>\n",
       "  </thead>\n",
       "  <tbody>\n",
       "    <tr>\n",
       "      <td>310</td>\n",
       "      <td>652</td>\n",
       "      <td>1</td>\n",
       "      <td>80</td>\n",
       "      <td>4</td>\n",
       "      <td>0.00</td>\n",
       "      <td>2</td>\n",
       "      <td>1</td>\n",
       "      <td>1</td>\n",
       "      <td>188603.07</td>\n",
       "      <td>0</td>\n",
       "      <td>0</td>\n",
       "      <td>0</td>\n",
       "    </tr>\n",
       "    <tr>\n",
       "      <td>921</td>\n",
       "      <td>609</td>\n",
       "      <td>0</td>\n",
       "      <td>61</td>\n",
       "      <td>1</td>\n",
       "      <td>0.00</td>\n",
       "      <td>1</td>\n",
       "      <td>1</td>\n",
       "      <td>0</td>\n",
       "      <td>22447.85</td>\n",
       "      <td>1</td>\n",
       "      <td>0</td>\n",
       "      <td>1</td>\n",
       "    </tr>\n",
       "    <tr>\n",
       "      <td>7477</td>\n",
       "      <td>677</td>\n",
       "      <td>1</td>\n",
       "      <td>56</td>\n",
       "      <td>0</td>\n",
       "      <td>119963.45</td>\n",
       "      <td>1</td>\n",
       "      <td>0</td>\n",
       "      <td>0</td>\n",
       "      <td>158325.87</td>\n",
       "      <td>1</td>\n",
       "      <td>0</td>\n",
       "      <td>0</td>\n",
       "    </tr>\n",
       "    <tr>\n",
       "      <td>4964</td>\n",
       "      <td>466</td>\n",
       "      <td>1</td>\n",
       "      <td>41</td>\n",
       "      <td>3</td>\n",
       "      <td>33563.95</td>\n",
       "      <td>2</td>\n",
       "      <td>1</td>\n",
       "      <td>0</td>\n",
       "      <td>178994.13</td>\n",
       "      <td>1</td>\n",
       "      <td>0</td>\n",
       "      <td>0</td>\n",
       "    </tr>\n",
       "    <tr>\n",
       "      <td>3094</td>\n",
       "      <td>480</td>\n",
       "      <td>1</td>\n",
       "      <td>25</td>\n",
       "      <td>3</td>\n",
       "      <td>174330.35</td>\n",
       "      <td>2</td>\n",
       "      <td>0</td>\n",
       "      <td>0</td>\n",
       "      <td>181647.13</td>\n",
       "      <td>0</td>\n",
       "      <td>1</td>\n",
       "      <td>0</td>\n",
       "    </tr>\n",
       "  </tbody>\n",
       "</table>\n",
       "</div>"
      ],
      "text/plain": [
       "      CreditScore  Gender  Age  Tenure    Balance  NumOfProducts  HasCrCard  \\\n",
       "310           652       1   80       4       0.00              2          1   \n",
       "921           609       0   61       1       0.00              1          1   \n",
       "7477          677       1   56       0  119963.45              1          0   \n",
       "4964          466       1   41       3   33563.95              2          1   \n",
       "3094          480       1   25       3  174330.35              2          0   \n",
       "\n",
       "      IsActiveMember  EstimatedSalary  Exited  Geography_Germany  \\\n",
       "310                1        188603.07       0                  0   \n",
       "921                0         22447.85       1                  0   \n",
       "7477               0        158325.87       1                  0   \n",
       "4964               0        178994.13       1                  0   \n",
       "3094               0        181647.13       0                  1   \n",
       "\n",
       "      Geography_Spain  \n",
       "310                 0  \n",
       "921                 1  \n",
       "7477                0  \n",
       "4964                0  \n",
       "3094                0  "
      ]
     },
     "execution_count": 92,
     "metadata": {},
     "output_type": "execute_result"
    }
   ],
   "source": [
    "df1.sample(5)"
   ]
  },
  {
   "cell_type": "code",
   "execution_count": 93,
   "metadata": {},
   "outputs": [
    {
     "data": {
      "text/plain": [
       "CreditScore            int64\n",
       "Gender                 int64\n",
       "Age                    int64\n",
       "Tenure                 int64\n",
       "Balance              float64\n",
       "NumOfProducts          int64\n",
       "HasCrCard              int64\n",
       "IsActiveMember         int64\n",
       "EstimatedSalary      float64\n",
       "Exited                 int64\n",
       "Geography_Germany      uint8\n",
       "Geography_Spain        uint8\n",
       "dtype: object"
      ]
     },
     "execution_count": 93,
     "metadata": {},
     "output_type": "execute_result"
    }
   ],
   "source": [
    "df1.dtypes"
   ]
  },
  {
   "cell_type": "code",
   "execution_count": 94,
   "metadata": {},
   "outputs": [],
   "source": [
    "cols_to_scale = ['CreditScore','Age','Balance','EstimatedSalary']\n",
    "\n",
    "from sklearn.preprocessing import MinMaxScaler\n",
    "scaler = MinMaxScaler()\n",
    "df1[cols_to_scale] = scaler.fit_transform(df1[cols_to_scale])"
   ]
  },
  {
   "cell_type": "code",
   "execution_count": 95,
   "metadata": {},
   "outputs": [
    {
     "name": "stdout",
     "output_type": "stream",
     "text": [
      "CreditScore: [0.538 0.516 0.304 0.698 1.    0.59  0.944 0.052 0.302 0.668 0.356 0.294\n",
      " 0.252 0.398 0.57  0.532 0.606 0.474 0.752 0.764 0.572 0.32  0.638 0.992\n",
      " 0.454 0.812 0.442 0.448 0.122 0.482 0.366 0.406 0.34  0.744 0.25  0.28\n",
      " 0.908 0.464 0.244 0.23  0.412 0.968 0.62  0.852 0.958 0.574 0.4   0.696\n",
      " 0.47  0.876 0.61  0.502 0.612 0.75  0.322 0.528 0.784 0.674 0.41  0.506\n",
      " 0.802 0.462 0.77  0.622 0.65  0.776 0.926 0.614 0.508 0.338 0.628 0.656\n",
      " 0.814 0.132 0.63  0.854 0.386 0.312 0.286 0.604 0.8   0.758 0.592 0.594\n",
      " 0.916 0.348 0.838 0.76  0.33  0.846 0.928 0.72  0.126 0.546 0.64  0.544\n",
      " 0.87  0.51  0.258 0.67  0.376 0.424 0.742 0.556 0.636 0.956 0.648 0.55\n",
      " 0.164 0.84  0.816 0.89  0.672 0.878 0.478 0.222 0.468 0.458 0.626 0.664\n",
      " 0.886 0.682 0.27  0.6   0.808 0.37  0.732 0.378 0.712 0.472 0.562 0.734\n",
      " 0.9   0.666 0.708 0.53  0.634 0.268 0.26  0.456 0.324 0.512 0.494 0.856\n",
      " 0.328 0.35  0.73  0.46  0.914 0.342 0.818 0.332 0.722 0.536 0.586 0.642\n",
      " 0.678 0.54  0.652 0.444 0.69  0.484 0.434 0.688 0.394 0.488 0.646 0.52\n",
      " 0.834 0.826 0.724 0.706 0.624 0.618 0.346 0.844 0.39  0.568 0.778 0.842\n",
      " 0.662 0.388 0.692 0.832 0.754 0.686 0.414 0.362 0.296 0.602 0.882 0.766\n",
      " 0.922 0.714 0.728 0.864 0.85  0.898 0.504 0.788 0.476 0.794 0.466 0.554\n",
      " 0.762 0.558 0.176 0.584 0.912 0.248 0.418 0.158 0.66  0.798 0.768 0.588\n",
      " 0.552 0.598 0.91  0.736 0.98  0.56  0.608 0.824 0.436 0.526 0.344 0.774\n",
      " 0.596 0.186 0.58  0.38  0.22  0.486 0.902 0.522 0.904 0.79  0.266 0.68\n",
      " 0.284 0.718 0.71  0.42  0.804 0.702 0.374 0.274 0.492 0.704 0.272 0.748\n",
      " 0.396 0.228 0.88  0.368 0.796 0.288 0.48  0.236 0.318 0.936 0.932 0.372\n",
      " 0.806 0.848 0.542 0.438 0.616 0.896 0.582 0.384 0.684 0.578 0.83  0.44\n",
      " 0.576 0.498 0.564 0.858 0.354 0.428 0.966 0.308 0.984 0.316 0.134 0.496\n",
      " 0.782 0.514 0.822 0.996 0.392 0.178 0.81  0.82  0.352 0.726 0.7   0.632\n",
      " 0.432 0.29  0.676 0.524 0.254 0.154 0.978 0.938 0.74  0.218 0.306 0.548\n",
      " 0.358 0.426 0.264 0.892 0.19  0.792 0.872 0.408 0.644 0.874 0.298 0.988\n",
      " 0.2   0.93  0.976 0.906 0.772 0.566 0.5   0.658 0.334 0.884 0.786 0.276\n",
      " 0.142 0.982 0.716 0.314 0.31  0.212 0.17  0.422 0.336 0.43  0.756 0.868\n",
      " 0.404 0.518 0.828 0.694 0.746 0.402 0.188 0.738 0.292 0.382 0.96  0.924\n",
      " 0.654 0.14  0.49  0.534 0.918 0.3   0.952 0.168 0.326 0.256 0.894 0.026\n",
      " 0.098 0.226 0.86  0.204 0.45  0.974 0.888 0.948 0.156 0.946 0.862 0.998\n",
      " 0.278 0.162 0.214 0.836 0.962 0.018 0.94  0.446 0.452 0.416 0.934 0.198\n",
      " 0.18  0.13  0.942 0.36  0.    0.192 0.15  0.78  0.262 0.866 0.016 0.99\n",
      " 0.202 0.216 0.238 0.146 0.108 0.972 0.246 0.97  0.232 0.282 0.002 0.954\n",
      " 0.986 0.03  0.364 0.128 0.206 0.242 0.102 0.92  0.964 0.24  0.194 0.144\n",
      " 0.95  0.16  0.172 0.152 0.116 0.994 0.136 0.174 0.12  0.208 0.114 0.21\n",
      " 0.224 0.072 0.11  0.066 0.09  0.234 0.166 0.184 0.148 0.196 0.182 0.034\n",
      " 0.124 0.064 0.046 0.138]\n",
      "Gender: [1 0]\n",
      "Age: [0.32432432 0.31081081 0.28378378 0.33783784 0.35135135 0.43243243\n",
      " 0.14864865 0.12162162 0.17567568 0.08108108 0.21621622 0.09459459\n",
      " 0.22972973 0.36486486 0.54054054 0.18918919 0.27027027 0.37837838\n",
      " 0.24324324 0.2027027  0.2972973  0.44594595 0.58108108 0.41891892\n",
      " 0.25675676 0.01351351 0.64864865 0.51351351 0.10810811 0.04054054\n",
      " 0.5        0.77027027 0.05405405 0.16216216 0.13513514 0.63513514\n",
      " 0.40540541 0.45945946 0.52702703 0.74324324 0.39189189 0.48648649\n",
      " 0.72972973 0.02702703 0.66216216 0.82432432 0.59459459 0.47297297\n",
      " 0.83783784 0.55405405 0.67567568 0.06756757 0.56756757 0.7027027\n",
      " 0.60810811 0.62162162 0.         0.86486486 0.68918919 0.75675676\n",
      " 0.71621622 0.78378378 0.7972973  0.94594595 0.90540541 0.89189189\n",
      " 0.81081081 0.85135135 1.         0.87837838]\n",
      "Tenure: [ 2  1  8  7  4  6  3 10  5  9  0]\n",
      "Balance: [0.         0.33403148 0.63635718 ... 0.22865702 0.29922631 0.51870777]\n",
      "NumOfProducts: [1 3 2 4]\n",
      "HasCrCard: [1 0]\n",
      "IsActiveMember: [1 0]\n",
      "EstimatedSalary: [0.50673489 0.56270874 0.56965435 ... 0.21039009 0.46442905 0.19091423]\n",
      "Exited: [1 0]\n",
      "Geography_Germany: [0 1]\n",
      "Geography_Spain: [0 1]\n"
     ]
    }
   ],
   "source": [
    "for col in df1:\n",
    "    print(f'{col}: {df1[col].unique()}')"
   ]
  },
  {
   "cell_type": "markdown",
   "metadata": {},
   "source": [
    "Lets check for the missing value"
   ]
  },
  {
   "cell_type": "code",
   "execution_count": 96,
   "metadata": {},
   "outputs": [
    {
     "name": "stdout",
     "output_type": "stream",
     "text": [
      "CreditScore          0\n",
      "Gender               0\n",
      "Age                  0\n",
      "Tenure               0\n",
      "Balance              0\n",
      "NumOfProducts        0\n",
      "HasCrCard            0\n",
      "IsActiveMember       0\n",
      "EstimatedSalary      0\n",
      "Exited               0\n",
      "Geography_Germany    0\n",
      "Geography_Spain      0\n",
      "dtype: int64\n"
     ]
    }
   ],
   "source": [
    "print(df1.isna().sum())"
   ]
  },
  {
   "cell_type": "markdown",
   "metadata": {},
   "source": [
    "As we can see above,There isnt any missing value. So wedo not need to do any missing value treatment."
   ]
  },
  {
   "cell_type": "code",
   "execution_count": 97,
   "metadata": {},
   "outputs": [
    {
     "data": {
      "text/plain": [
       "CreditScore          float64\n",
       "Gender                 int64\n",
       "Age                  float64\n",
       "Tenure                 int64\n",
       "Balance              float64\n",
       "NumOfProducts          int64\n",
       "HasCrCard              int64\n",
       "IsActiveMember         int64\n",
       "EstimatedSalary      float64\n",
       "Exited                 int64\n",
       "Geography_Germany      uint8\n",
       "Geography_Spain        uint8\n",
       "dtype: object"
      ]
     },
     "execution_count": 97,
     "metadata": {},
     "output_type": "execute_result"
    }
   ],
   "source": [
    "df1.dtypes"
   ]
  },
  {
   "cell_type": "code",
   "execution_count": 98,
   "metadata": {},
   "outputs": [
    {
     "data": {
      "text/html": [
       "<div>\n",
       "<style scoped>\n",
       "    .dataframe tbody tr th:only-of-type {\n",
       "        vertical-align: middle;\n",
       "    }\n",
       "\n",
       "    .dataframe tbody tr th {\n",
       "        vertical-align: top;\n",
       "    }\n",
       "\n",
       "    .dataframe thead th {\n",
       "        text-align: right;\n",
       "    }\n",
       "</style>\n",
       "<table border=\"1\" class=\"dataframe\">\n",
       "  <thead>\n",
       "    <tr style=\"text-align: right;\">\n",
       "      <th></th>\n",
       "      <th>CreditScore</th>\n",
       "      <th>Gender</th>\n",
       "      <th>Age</th>\n",
       "      <th>Tenure</th>\n",
       "      <th>Balance</th>\n",
       "      <th>NumOfProducts</th>\n",
       "      <th>HasCrCard</th>\n",
       "      <th>IsActiveMember</th>\n",
       "      <th>EstimatedSalary</th>\n",
       "      <th>Exited</th>\n",
       "      <th>Geography_Germany</th>\n",
       "      <th>Geography_Spain</th>\n",
       "    </tr>\n",
       "  </thead>\n",
       "  <tbody>\n",
       "    <tr>\n",
       "      <td>3865</td>\n",
       "      <td>0.546</td>\n",
       "      <td>0</td>\n",
       "      <td>0.297297</td>\n",
       "      <td>6</td>\n",
       "      <td>0.000000</td>\n",
       "      <td>2</td>\n",
       "      <td>1</td>\n",
       "      <td>1</td>\n",
       "      <td>0.330569</td>\n",
       "      <td>0</td>\n",
       "      <td>0</td>\n",
       "      <td>0</td>\n",
       "    </tr>\n",
       "    <tr>\n",
       "      <td>279</td>\n",
       "      <td>0.728</td>\n",
       "      <td>0</td>\n",
       "      <td>0.378378</td>\n",
       "      <td>1</td>\n",
       "      <td>0.000000</td>\n",
       "      <td>1</td>\n",
       "      <td>1</td>\n",
       "      <td>0</td>\n",
       "      <td>0.760854</td>\n",
       "      <td>1</td>\n",
       "      <td>0</td>\n",
       "      <td>0</td>\n",
       "    </tr>\n",
       "    <tr>\n",
       "      <td>8442</td>\n",
       "      <td>0.496</td>\n",
       "      <td>1</td>\n",
       "      <td>0.216216</td>\n",
       "      <td>4</td>\n",
       "      <td>0.000000</td>\n",
       "      <td>2</td>\n",
       "      <td>0</td>\n",
       "      <td>0</td>\n",
       "      <td>0.304442</td>\n",
       "      <td>0</td>\n",
       "      <td>0</td>\n",
       "      <td>0</td>\n",
       "    </tr>\n",
       "    <tr>\n",
       "      <td>3323</td>\n",
       "      <td>0.274</td>\n",
       "      <td>1</td>\n",
       "      <td>0.175676</td>\n",
       "      <td>1</td>\n",
       "      <td>0.000000</td>\n",
       "      <td>2</td>\n",
       "      <td>1</td>\n",
       "      <td>0</td>\n",
       "      <td>0.793769</td>\n",
       "      <td>0</td>\n",
       "      <td>0</td>\n",
       "      <td>1</td>\n",
       "    </tr>\n",
       "    <tr>\n",
       "      <td>1579</td>\n",
       "      <td>0.536</td>\n",
       "      <td>0</td>\n",
       "      <td>0.310811</td>\n",
       "      <td>8</td>\n",
       "      <td>0.150271</td>\n",
       "      <td>1</td>\n",
       "      <td>1</td>\n",
       "      <td>1</td>\n",
       "      <td>0.978913</td>\n",
       "      <td>0</td>\n",
       "      <td>1</td>\n",
       "      <td>0</td>\n",
       "    </tr>\n",
       "    <tr>\n",
       "      <td>6163</td>\n",
       "      <td>0.276</td>\n",
       "      <td>1</td>\n",
       "      <td>0.135135</td>\n",
       "      <td>7</td>\n",
       "      <td>0.554991</td>\n",
       "      <td>2</td>\n",
       "      <td>1</td>\n",
       "      <td>0</td>\n",
       "      <td>0.533991</td>\n",
       "      <td>0</td>\n",
       "      <td>1</td>\n",
       "      <td>0</td>\n",
       "    </tr>\n",
       "    <tr>\n",
       "      <td>7721</td>\n",
       "      <td>0.814</td>\n",
       "      <td>0</td>\n",
       "      <td>0.202703</td>\n",
       "      <td>1</td>\n",
       "      <td>0.486607</td>\n",
       "      <td>1</td>\n",
       "      <td>1</td>\n",
       "      <td>0</td>\n",
       "      <td>0.212868</td>\n",
       "      <td>0</td>\n",
       "      <td>1</td>\n",
       "      <td>0</td>\n",
       "    </tr>\n",
       "    <tr>\n",
       "      <td>7751</td>\n",
       "      <td>0.800</td>\n",
       "      <td>1</td>\n",
       "      <td>0.283784</td>\n",
       "      <td>6</td>\n",
       "      <td>0.000000</td>\n",
       "      <td>2</td>\n",
       "      <td>0</td>\n",
       "      <td>0</td>\n",
       "      <td>0.096273</td>\n",
       "      <td>0</td>\n",
       "      <td>0</td>\n",
       "      <td>1</td>\n",
       "    </tr>\n",
       "    <tr>\n",
       "      <td>5057</td>\n",
       "      <td>0.806</td>\n",
       "      <td>1</td>\n",
       "      <td>0.378378</td>\n",
       "      <td>3</td>\n",
       "      <td>0.444454</td>\n",
       "      <td>3</td>\n",
       "      <td>1</td>\n",
       "      <td>0</td>\n",
       "      <td>0.797902</td>\n",
       "      <td>1</td>\n",
       "      <td>1</td>\n",
       "      <td>0</td>\n",
       "    </tr>\n",
       "    <tr>\n",
       "      <td>1177</td>\n",
       "      <td>0.552</td>\n",
       "      <td>0</td>\n",
       "      <td>0.040541</td>\n",
       "      <td>1</td>\n",
       "      <td>0.000000</td>\n",
       "      <td>2</td>\n",
       "      <td>1</td>\n",
       "      <td>0</td>\n",
       "      <td>0.331135</td>\n",
       "      <td>0</td>\n",
       "      <td>0</td>\n",
       "      <td>0</td>\n",
       "    </tr>\n",
       "  </tbody>\n",
       "</table>\n",
       "</div>"
      ],
      "text/plain": [
       "      CreditScore  Gender       Age  Tenure   Balance  NumOfProducts  \\\n",
       "3865        0.546       0  0.297297       6  0.000000              2   \n",
       "279         0.728       0  0.378378       1  0.000000              1   \n",
       "8442        0.496       1  0.216216       4  0.000000              2   \n",
       "3323        0.274       1  0.175676       1  0.000000              2   \n",
       "1579        0.536       0  0.310811       8  0.150271              1   \n",
       "6163        0.276       1  0.135135       7  0.554991              2   \n",
       "7721        0.814       0  0.202703       1  0.486607              1   \n",
       "7751        0.800       1  0.283784       6  0.000000              2   \n",
       "5057        0.806       1  0.378378       3  0.444454              3   \n",
       "1177        0.552       0  0.040541       1  0.000000              2   \n",
       "\n",
       "      HasCrCard  IsActiveMember  EstimatedSalary  Exited  Geography_Germany  \\\n",
       "3865          1               1         0.330569       0                  0   \n",
       "279           1               0         0.760854       1                  0   \n",
       "8442          0               0         0.304442       0                  0   \n",
       "3323          1               0         0.793769       0                  0   \n",
       "1579          1               1         0.978913       0                  1   \n",
       "6163          1               0         0.533991       0                  1   \n",
       "7721          1               0         0.212868       0                  1   \n",
       "7751          0               0         0.096273       0                  0   \n",
       "5057          1               0         0.797902       1                  1   \n",
       "1177          1               0         0.331135       0                  0   \n",
       "\n",
       "      Geography_Spain  \n",
       "3865                0  \n",
       "279                 0  \n",
       "8442                0  \n",
       "3323                1  \n",
       "1579                0  \n",
       "6163                0  \n",
       "7721                0  \n",
       "7751                1  \n",
       "5057                0  \n",
       "1177                0  "
      ]
     },
     "execution_count": 98,
     "metadata": {},
     "output_type": "execute_result"
    }
   ],
   "source": [
    "df1.sample(10)"
   ]
  },
  {
   "cell_type": "markdown",
   "metadata": {},
   "source": [
    "Now our data looks fine, lets break it into Dependent (X) nd independent (y) variable and then do the train test split."
   ]
  },
  {
   "cell_type": "code",
   "execution_count": 99,
   "metadata": {},
   "outputs": [],
   "source": [
    "X = df1.drop('Exited',axis='columns')\n",
    "y = df1['Exited']"
   ]
  },
  {
   "cell_type": "code",
   "execution_count": 100,
   "metadata": {},
   "outputs": [],
   "source": [
    "from sklearn.model_selection import train_test_split\n",
    "X_train, X_test, y_train, y_test = train_test_split(X,y,test_size=0.2,random_state=5)"
   ]
  },
  {
   "cell_type": "code",
   "execution_count": 101,
   "metadata": {},
   "outputs": [
    {
     "data": {
      "text/plain": [
       "(8000, 11)"
      ]
     },
     "execution_count": 101,
     "metadata": {},
     "output_type": "execute_result"
    }
   ],
   "source": [
    "X_train.shape"
   ]
  },
  {
   "cell_type": "code",
   "execution_count": 102,
   "metadata": {},
   "outputs": [
    {
     "data": {
      "text/plain": [
       "(2000, 11)"
      ]
     },
     "execution_count": 102,
     "metadata": {},
     "output_type": "execute_result"
    }
   ],
   "source": [
    "X_test.shape"
   ]
  },
  {
   "cell_type": "code",
   "execution_count": 103,
   "metadata": {},
   "outputs": [
    {
     "data": {
      "text/html": [
       "<div>\n",
       "<style scoped>\n",
       "    .dataframe tbody tr th:only-of-type {\n",
       "        vertical-align: middle;\n",
       "    }\n",
       "\n",
       "    .dataframe tbody tr th {\n",
       "        vertical-align: top;\n",
       "    }\n",
       "\n",
       "    .dataframe thead th {\n",
       "        text-align: right;\n",
       "    }\n",
       "</style>\n",
       "<table border=\"1\" class=\"dataframe\">\n",
       "  <thead>\n",
       "    <tr style=\"text-align: right;\">\n",
       "      <th></th>\n",
       "      <th>CreditScore</th>\n",
       "      <th>Gender</th>\n",
       "      <th>Age</th>\n",
       "      <th>Tenure</th>\n",
       "      <th>Balance</th>\n",
       "      <th>NumOfProducts</th>\n",
       "      <th>HasCrCard</th>\n",
       "      <th>IsActiveMember</th>\n",
       "      <th>EstimatedSalary</th>\n",
       "      <th>Geography_Germany</th>\n",
       "      <th>Geography_Spain</th>\n",
       "    </tr>\n",
       "  </thead>\n",
       "  <tbody>\n",
       "    <tr>\n",
       "      <td>7751</td>\n",
       "      <td>0.800</td>\n",
       "      <td>1</td>\n",
       "      <td>0.283784</td>\n",
       "      <td>6</td>\n",
       "      <td>0.000000</td>\n",
       "      <td>2</td>\n",
       "      <td>0</td>\n",
       "      <td>0</td>\n",
       "      <td>0.096273</td>\n",
       "      <td>0</td>\n",
       "      <td>1</td>\n",
       "    </tr>\n",
       "    <tr>\n",
       "      <td>4154</td>\n",
       "      <td>0.752</td>\n",
       "      <td>0</td>\n",
       "      <td>0.216216</td>\n",
       "      <td>3</td>\n",
       "      <td>0.000000</td>\n",
       "      <td>2</td>\n",
       "      <td>1</td>\n",
       "      <td>0</td>\n",
       "      <td>0.981478</td>\n",
       "      <td>0</td>\n",
       "      <td>0</td>\n",
       "    </tr>\n",
       "    <tr>\n",
       "      <td>3881</td>\n",
       "      <td>0.476</td>\n",
       "      <td>1</td>\n",
       "      <td>0.621622</td>\n",
       "      <td>3</td>\n",
       "      <td>0.000000</td>\n",
       "      <td>1</td>\n",
       "      <td>1</td>\n",
       "      <td>1</td>\n",
       "      <td>0.948551</td>\n",
       "      <td>0</td>\n",
       "      <td>0</td>\n",
       "    </tr>\n",
       "    <tr>\n",
       "      <td>9238</td>\n",
       "      <td>0.846</td>\n",
       "      <td>1</td>\n",
       "      <td>0.432432</td>\n",
       "      <td>4</td>\n",
       "      <td>0.000000</td>\n",
       "      <td>2</td>\n",
       "      <td>1</td>\n",
       "      <td>0</td>\n",
       "      <td>0.646869</td>\n",
       "      <td>0</td>\n",
       "      <td>0</td>\n",
       "    </tr>\n",
       "    <tr>\n",
       "      <td>5210</td>\n",
       "      <td>0.402</td>\n",
       "      <td>0</td>\n",
       "      <td>0.229730</td>\n",
       "      <td>7</td>\n",
       "      <td>0.517012</td>\n",
       "      <td>2</td>\n",
       "      <td>0</td>\n",
       "      <td>0</td>\n",
       "      <td>0.434670</td>\n",
       "      <td>0</td>\n",
       "      <td>0</td>\n",
       "    </tr>\n",
       "    <tr>\n",
       "      <td>7487</td>\n",
       "      <td>0.602</td>\n",
       "      <td>1</td>\n",
       "      <td>0.513514</td>\n",
       "      <td>4</td>\n",
       "      <td>0.000000</td>\n",
       "      <td>1</td>\n",
       "      <td>0</td>\n",
       "      <td>0</td>\n",
       "      <td>0.421898</td>\n",
       "      <td>0</td>\n",
       "      <td>0</td>\n",
       "    </tr>\n",
       "    <tr>\n",
       "      <td>7542</td>\n",
       "      <td>0.314</td>\n",
       "      <td>1</td>\n",
       "      <td>0.216216</td>\n",
       "      <td>4</td>\n",
       "      <td>0.000000</td>\n",
       "      <td>2</td>\n",
       "      <td>1</td>\n",
       "      <td>1</td>\n",
       "      <td>0.303413</td>\n",
       "      <td>0</td>\n",
       "      <td>1</td>\n",
       "    </tr>\n",
       "    <tr>\n",
       "      <td>7524</td>\n",
       "      <td>0.620</td>\n",
       "      <td>1</td>\n",
       "      <td>0.297297</td>\n",
       "      <td>8</td>\n",
       "      <td>0.666330</td>\n",
       "      <td>1</td>\n",
       "      <td>1</td>\n",
       "      <td>1</td>\n",
       "      <td>0.925815</td>\n",
       "      <td>0</td>\n",
       "      <td>0</td>\n",
       "    </tr>\n",
       "    <tr>\n",
       "      <td>9412</td>\n",
       "      <td>0.750</td>\n",
       "      <td>0</td>\n",
       "      <td>0.108108</td>\n",
       "      <td>6</td>\n",
       "      <td>0.393324</td>\n",
       "      <td>1</td>\n",
       "      <td>0</td>\n",
       "      <td>0</td>\n",
       "      <td>0.668609</td>\n",
       "      <td>0</td>\n",
       "      <td>0</td>\n",
       "    </tr>\n",
       "    <tr>\n",
       "      <td>6377</td>\n",
       "      <td>0.684</td>\n",
       "      <td>0</td>\n",
       "      <td>0.202703</td>\n",
       "      <td>9</td>\n",
       "      <td>0.000000</td>\n",
       "      <td>1</td>\n",
       "      <td>1</td>\n",
       "      <td>0</td>\n",
       "      <td>0.567526</td>\n",
       "      <td>0</td>\n",
       "      <td>0</td>\n",
       "    </tr>\n",
       "  </tbody>\n",
       "</table>\n",
       "</div>"
      ],
      "text/plain": [
       "      CreditScore  Gender       Age  Tenure   Balance  NumOfProducts  \\\n",
       "7751        0.800       1  0.283784       6  0.000000              2   \n",
       "4154        0.752       0  0.216216       3  0.000000              2   \n",
       "3881        0.476       1  0.621622       3  0.000000              1   \n",
       "9238        0.846       1  0.432432       4  0.000000              2   \n",
       "5210        0.402       0  0.229730       7  0.517012              2   \n",
       "7487        0.602       1  0.513514       4  0.000000              1   \n",
       "7542        0.314       1  0.216216       4  0.000000              2   \n",
       "7524        0.620       1  0.297297       8  0.666330              1   \n",
       "9412        0.750       0  0.108108       6  0.393324              1   \n",
       "6377        0.684       0  0.202703       9  0.000000              1   \n",
       "\n",
       "      HasCrCard  IsActiveMember  EstimatedSalary  Geography_Germany  \\\n",
       "7751          0               0         0.096273                  0   \n",
       "4154          1               0         0.981478                  0   \n",
       "3881          1               1         0.948551                  0   \n",
       "9238          1               0         0.646869                  0   \n",
       "5210          0               0         0.434670                  0   \n",
       "7487          0               0         0.421898                  0   \n",
       "7542          1               1         0.303413                  0   \n",
       "7524          1               1         0.925815                  0   \n",
       "9412          0               0         0.668609                  0   \n",
       "6377          1               0         0.567526                  0   \n",
       "\n",
       "      Geography_Spain  \n",
       "7751                1  \n",
       "4154                0  \n",
       "3881                0  \n",
       "9238                0  \n",
       "5210                0  \n",
       "7487                0  \n",
       "7542                1  \n",
       "7524                0  \n",
       "9412                0  \n",
       "6377                0  "
      ]
     },
     "execution_count": 103,
     "metadata": {},
     "output_type": "execute_result"
    }
   ],
   "source": [
    "X_train[:10]"
   ]
  },
  {
   "cell_type": "code",
   "execution_count": 104,
   "metadata": {},
   "outputs": [
    {
     "data": {
      "text/plain": [
       "11"
      ]
     },
     "execution_count": 104,
     "metadata": {},
     "output_type": "execute_result"
    }
   ],
   "source": [
    "len(X_train.columns)"
   ]
  },
  {
   "cell_type": "markdown",
   "metadata": {},
   "source": [
    "# Build a model (ANN) in tensorflow/keras"
   ]
  },
  {
   "cell_type": "code",
   "execution_count": 105,
   "metadata": {},
   "outputs": [
    {
     "name": "stdout",
     "output_type": "stream",
     "text": [
      "Train on 8000 samples\n",
      "Epoch 1/100\n",
      "8000/8000 [==============================] - 2s 256us/sample - loss: 0.5206 - accuracy: 0.7789\n",
      "Epoch 2/100\n",
      "8000/8000 [==============================] - 1s 123us/sample - loss: 0.4807 - accuracy: 0.7969\n",
      "Epoch 3/100\n",
      "8000/8000 [==============================] - 1s 141us/sample - loss: 0.4654 - accuracy: 0.8008\n",
      "Epoch 4/100\n",
      "8000/8000 [==============================] - 1s 149us/sample - loss: 0.4583 - accuracy: 0.8054\n",
      "Epoch 5/100\n",
      "8000/8000 [==============================] - 1s 143us/sample - loss: 0.4538 - accuracy: 0.8060\n",
      "Epoch 6/100\n",
      "8000/8000 [==============================] - 1s 113us/sample - loss: 0.4497 - accuracy: 0.8087\n",
      "Epoch 7/100\n",
      "8000/8000 [==============================] - 1s 117us/sample - loss: 0.4466 - accuracy: 0.8110\n",
      "Epoch 8/100\n",
      "8000/8000 [==============================] - 1s 123us/sample - loss: 0.4437 - accuracy: 0.8114\n",
      "Epoch 9/100\n",
      "8000/8000 [==============================] - 1s 122us/sample - loss: 0.4415 - accuracy: 0.8127\n",
      "Epoch 10/100\n",
      "8000/8000 [==============================] - 1s 126us/sample - loss: 0.4397 - accuracy: 0.8131\n",
      "Epoch 11/100\n",
      "8000/8000 [==============================] - 1s 127us/sample - loss: 0.4381 - accuracy: 0.8138\n",
      "Epoch 12/100\n",
      "8000/8000 [==============================] - 1s 133us/sample - loss: 0.4362 - accuracy: 0.8146\n",
      "Epoch 13/100\n",
      "8000/8000 [==============================] - 1s 154us/sample - loss: 0.4351 - accuracy: 0.8159\n",
      "Epoch 14/100\n",
      "8000/8000 [==============================] - 1s 160us/sample - loss: 0.4327 - accuracy: 0.8160\n",
      "Epoch 15/100\n",
      "8000/8000 [==============================] - 1s 125us/sample - loss: 0.4298 - accuracy: 0.8166\n",
      "Epoch 16/100\n",
      "8000/8000 [==============================] - 1s 114us/sample - loss: 0.4270 - accuracy: 0.8170\n",
      "Epoch 17/100\n",
      "8000/8000 [==============================] - 1s 108us/sample - loss: 0.4248 - accuracy: 0.8186\n",
      "Epoch 18/100\n",
      "8000/8000 [==============================] - 1s 132us/sample - loss: 0.4234 - accuracy: 0.8195\n",
      "Epoch 19/100\n",
      "8000/8000 [==============================] - 1s 127us/sample - loss: 0.4212 - accuracy: 0.8190\n",
      "Epoch 20/100\n",
      "8000/8000 [==============================] - 1s 127us/sample - loss: 0.4202 - accuracy: 0.8191\n",
      "Epoch 21/100\n",
      "8000/8000 [==============================] - 1s 124us/sample - loss: 0.4185 - accuracy: 0.8190\n",
      "Epoch 22/100\n",
      "8000/8000 [==============================] - 1s 161us/sample - loss: 0.4170 - accuracy: 0.8198\n",
      "Epoch 23/100\n",
      "8000/8000 [==============================] - 1s 154us/sample - loss: 0.4151 - accuracy: 0.8211\n",
      "Epoch 24/100\n",
      "8000/8000 [==============================] - 1s 131us/sample - loss: 0.4141 - accuracy: 0.8227\n",
      "Epoch 25/100\n",
      "8000/8000 [==============================] - 1s 104us/sample - loss: 0.4128 - accuracy: 0.8226\n",
      "Epoch 26/100\n",
      "8000/8000 [==============================] - 1s 100us/sample - loss: 0.4113 - accuracy: 0.8231\n",
      "Epoch 27/100\n",
      "8000/8000 [==============================] - 1s 137us/sample - loss: 0.4102 - accuracy: 0.8231\n",
      "Epoch 28/100\n",
      "8000/8000 [==============================] - 1s 114us/sample - loss: 0.4086 - accuracy: 0.8241\n",
      "Epoch 29/100\n",
      "8000/8000 [==============================] - 1s 134us/sample - loss: 0.4076 - accuracy: 0.8240\n",
      "Epoch 30/100\n",
      "8000/8000 [==============================] - 1s 126us/sample - loss: 0.4065 - accuracy: 0.8234\n",
      "Epoch 31/100\n",
      "8000/8000 [==============================] - 1s 131us/sample - loss: 0.4049 - accuracy: 0.8250\n",
      "Epoch 32/100\n",
      "8000/8000 [==============================] - 1s 154us/sample - loss: 0.4037 - accuracy: 0.8260\n",
      "Epoch 33/100\n",
      "8000/8000 [==============================] - 1s 152us/sample - loss: 0.4023 - accuracy: 0.8259\n",
      "Epoch 34/100\n",
      "8000/8000 [==============================] - 1s 108us/sample - loss: 0.4023 - accuracy: 0.8280\n",
      "Epoch 35/100\n",
      "8000/8000 [==============================] - 1s 97us/sample - loss: 0.4002 - accuracy: 0.8288\n",
      "Epoch 36/100\n",
      "8000/8000 [==============================] - 1s 89us/sample - loss: 0.3993 - accuracy: 0.8291\n",
      "Epoch 37/100\n",
      "8000/8000 [==============================] - 1s 140us/sample - loss: 0.3977 - accuracy: 0.8306\n",
      "Epoch 38/100\n",
      "8000/8000 [==============================] - 1s 126us/sample - loss: 0.3977 - accuracy: 0.8311\n",
      "Epoch 39/100\n",
      "8000/8000 [==============================] - 1s 129us/sample - loss: 0.3954 - accuracy: 0.8328\n",
      "Epoch 40/100\n",
      "8000/8000 [==============================] - 1s 133us/sample - loss: 0.3951 - accuracy: 0.8326\n",
      "Epoch 41/100\n",
      "8000/8000 [==============================] - 1s 136us/sample - loss: 0.3933 - accuracy: 0.8335\n",
      "Epoch 42/100\n",
      "8000/8000 [==============================] - 1s 157us/sample - loss: 0.3928 - accuracy: 0.8329\n",
      "Epoch 43/100\n",
      "8000/8000 [==============================] - 1s 145us/sample - loss: 0.3916 - accuracy: 0.8345\n",
      "Epoch 44/100\n",
      "8000/8000 [==============================] - 1s 112us/sample - loss: 0.3911 - accuracy: 0.8340\n",
      "Epoch 45/100\n",
      "8000/8000 [==============================] - 1s 100us/sample - loss: 0.3898 - accuracy: 0.8347\n",
      "Epoch 46/100\n",
      "8000/8000 [==============================] - 1s 87us/sample - loss: 0.3883 - accuracy: 0.8360\n",
      "Epoch 47/100\n",
      "8000/8000 [==============================] - 1s 116us/sample - loss: 0.3881 - accuracy: 0.8360\n",
      "Epoch 48/100\n",
      "8000/8000 [==============================] - 1s 127us/sample - loss: 0.3867 - accuracy: 0.8366\n",
      "Epoch 49/100\n",
      "8000/8000 [==============================] - 1s 128us/sample - loss: 0.3860 - accuracy: 0.8390\n",
      "Epoch 50/100\n",
      "8000/8000 [==============================] - 1s 128us/sample - loss: 0.3855 - accuracy: 0.8384\n",
      "Epoch 51/100\n",
      "8000/8000 [==============================] - 1s 141us/sample - loss: 0.3850 - accuracy: 0.8380\n",
      "Epoch 52/100\n",
      "8000/8000 [==============================] - 1s 157us/sample - loss: 0.3842 - accuracy: 0.8384\n",
      "Epoch 53/100\n",
      "8000/8000 [==============================] - 1s 130us/sample - loss: 0.3823 - accuracy: 0.8380\n",
      "Epoch 54/100\n",
      "8000/8000 [==============================] - 1s 116us/sample - loss: 0.3817 - accuracy: 0.8397\n",
      "Epoch 55/100\n",
      "8000/8000 [==============================] - 1s 92us/sample - loss: 0.3818 - accuracy: 0.8401\n",
      "Epoch 56/100\n",
      "8000/8000 [==============================] - 1s 77us/sample - loss: 0.3805 - accuracy: 0.8419\n",
      "Epoch 57/100\n",
      "8000/8000 [==============================] - 1s 91us/sample - loss: 0.3788 - accuracy: 0.8419\n",
      "Epoch 58/100\n",
      "8000/8000 [==============================] - 1s 142us/sample - loss: 0.3779 - accuracy: 0.8434\n",
      "Epoch 59/100\n",
      "8000/8000 [==============================] - 1s 141us/sample - loss: 0.3782 - accuracy: 0.8419\n",
      "Epoch 60/100\n",
      "8000/8000 [==============================] - 1s 138us/sample - loss: 0.3772 - accuracy: 0.8420\n",
      "Epoch 61/100\n",
      "8000/8000 [==============================] - 1s 141us/sample - loss: 0.3764 - accuracy: 0.8429\n",
      "Epoch 62/100\n",
      "8000/8000 [==============================] - 1s 155us/sample - loss: 0.3764 - accuracy: 0.8439\n",
      "Epoch 63/100\n",
      "8000/8000 [==============================] - 1s 121us/sample - loss: 0.3744 - accuracy: 0.8441\n",
      "Epoch 64/100\n",
      "8000/8000 [==============================] - 1s 98us/sample - loss: 0.3745 - accuracy: 0.8439\n",
      "Epoch 65/100\n",
      "8000/8000 [==============================] - 1s 121us/sample - loss: 0.3736 - accuracy: 0.8439\n",
      "Epoch 66/100\n",
      "8000/8000 [==============================] - 1s 135us/sample - loss: 0.3730 - accuracy: 0.8443\n",
      "Epoch 67/100\n",
      "8000/8000 [==============================] - 1s 127us/sample - loss: 0.3741 - accuracy: 0.8444\n",
      "Epoch 68/100\n",
      "8000/8000 [==============================] - 1s 131us/sample - loss: 0.3726 - accuracy: 0.8446\n",
      "Epoch 69/100\n",
      "8000/8000 [==============================] - 1s 163us/sample - loss: 0.3718 - accuracy: 0.8471\n",
      "Epoch 70/100\n",
      "8000/8000 [==============================] - 1s 146us/sample - loss: 0.3709 - accuracy: 0.8462\n",
      "Epoch 71/100\n",
      "8000/8000 [==============================] - 1s 134us/sample - loss: 0.3700 - accuracy: 0.8474\n",
      "Epoch 72/100\n",
      "8000/8000 [==============================] - 1s 105us/sample - loss: 0.3698 - accuracy: 0.8490\n",
      "Epoch 73/100\n",
      "8000/8000 [==============================] - 1s 98us/sample - loss: 0.3691 - accuracy: 0.8470\n",
      "Epoch 74/100\n",
      "8000/8000 [==============================] - 1s 83us/sample - loss: 0.3683 - accuracy: 0.8466\n",
      "Epoch 75/100\n",
      "8000/8000 [==============================] - 1s 72us/sample - loss: 0.3677 - accuracy: 0.8496\n",
      "Epoch 76/100\n"
     ]
    },
    {
     "name": "stdout",
     "output_type": "stream",
     "text": [
      "8000/8000 [==============================] - 1s 68us/sample - loss: 0.3678 - accuracy: 0.8478\n",
      "Epoch 77/100\n",
      "8000/8000 [==============================] - 1s 68us/sample - loss: 0.3676 - accuracy: 0.8481\n",
      "Epoch 78/100\n",
      "8000/8000 [==============================] - 0s 57us/sample - loss: 0.3679 - accuracy: 0.8481\n",
      "Epoch 79/100\n",
      "8000/8000 [==============================] - 1s 102us/sample - loss: 0.3661 - accuracy: 0.8512\n",
      "Epoch 80/100\n",
      "8000/8000 [==============================] - 1s 129us/sample - loss: 0.3660 - accuracy: 0.8484\n",
      "Epoch 81/100\n",
      "8000/8000 [==============================] - 1s 133us/sample - loss: 0.3650 - accuracy: 0.8496\n",
      "Epoch 82/100\n",
      "8000/8000 [==============================] - 1s 133us/sample - loss: 0.3652 - accuracy: 0.8509\n",
      "Epoch 83/100\n",
      "8000/8000 [==============================] - 1s 138us/sample - loss: 0.3648 - accuracy: 0.8501\n",
      "Epoch 84/100\n",
      "8000/8000 [==============================] - 1s 154us/sample - loss: 0.3649 - accuracy: 0.8501\n",
      "Epoch 85/100\n",
      "8000/8000 [==============================] - 1s 156us/sample - loss: 0.3636 - accuracy: 0.8510\n",
      "Epoch 86/100\n",
      "8000/8000 [==============================] - 1s 138us/sample - loss: 0.3633 - accuracy: 0.8514\n",
      "Epoch 87/100\n",
      "8000/8000 [==============================] - 1s 108us/sample - loss: 0.3635 - accuracy: 0.8505\n",
      "Epoch 88/100\n",
      "8000/8000 [==============================] - 1s 103us/sample - loss: 0.3627 - accuracy: 0.8512\n",
      "Epoch 89/100\n",
      "8000/8000 [==============================] - 1s 133us/sample - loss: 0.3614 - accuracy: 0.8511\n",
      "Epoch 90/100\n",
      "8000/8000 [==============================] - 1s 128us/sample - loss: 0.3617 - accuracy: 0.8534\n",
      "Epoch 91/100\n",
      "8000/8000 [==============================] - 1s 126us/sample - loss: 0.3616 - accuracy: 0.8514\n",
      "Epoch 92/100\n",
      "8000/8000 [==============================] - 1s 127us/sample - loss: 0.3611 - accuracy: 0.8503\n",
      "Epoch 93/100\n",
      "8000/8000 [==============================] - 1s 137us/sample - loss: 0.3600 - accuracy: 0.8520\n",
      "Epoch 94/100\n",
      "8000/8000 [==============================] - 1s 159us/sample - loss: 0.3604 - accuracy: 0.8521\n",
      "Epoch 95/100\n",
      "8000/8000 [==============================] - 1s 153us/sample - loss: 0.3600 - accuracy: 0.8560\n",
      "Epoch 96/100\n",
      "8000/8000 [==============================] - 1s 113us/sample - loss: 0.3600 - accuracy: 0.8525\n",
      "Epoch 97/100\n",
      "8000/8000 [==============================] - 1s 102us/sample - loss: 0.3589 - accuracy: 0.8518\n",
      "Epoch 98/100\n",
      "8000/8000 [==============================] - 1s 124us/sample - loss: 0.3588 - accuracy: 0.8524\n",
      "Epoch 99/100\n",
      "8000/8000 [==============================] - 1s 124us/sample - loss: 0.3588 - accuracy: 0.8559\n",
      "Epoch 100/100\n",
      "8000/8000 [==============================] - 1s 142us/sample - loss: 0.3589 - accuracy: 0.8519\n"
     ]
    },
    {
     "data": {
      "text/plain": [
       "<tensorflow.python.keras.callbacks.History at 0xe75e2f7488>"
      ]
     },
     "execution_count": 105,
     "metadata": {},
     "output_type": "execute_result"
    }
   ],
   "source": [
    "import tensorflow as tf\n",
    "from tensorflow import keras\n",
    "\n",
    "\n",
    "model = keras.Sequential([\n",
    "    keras.layers.Dense(6, input_shape=(11,), activation='relu'),\n",
    "    #keras.layers.Dense(3, activation='relu'),\n",
    "    keras.layers.Dense(1, activation='sigmoid')\n",
    "])\n",
    "\n",
    "# opt = keras.optimizers.Adam(learning_rate=0.01)\n",
    "\n",
    "model.compile(optimizer='adam',\n",
    "              loss='binary_crossentropy',\n",
    "              metrics=['accuracy'])\n",
    "\n",
    "model.fit(X_train, y_train, epochs=100)"
   ]
  },
  {
   "cell_type": "code",
   "execution_count": 107,
   "metadata": {},
   "outputs": [
    {
     "name": "stdout",
     "output_type": "stream",
     "text": [
      "2000/2000 [==============================] - 0s 172us/sample - loss: 0.3676 - accuracy: 0.8530\n"
     ]
    },
    {
     "data": {
      "text/plain": [
       "[0.36758335995674135, 0.853]"
      ]
     },
     "execution_count": 107,
     "metadata": {},
     "output_type": "execute_result"
    }
   ],
   "source": [
    "model.evaluate(X_test, y_test)"
   ]
  },
  {
   "cell_type": "markdown",
   "metadata": {},
   "source": []
  },
  {
   "cell_type": "markdown",
   "metadata": {},
   "source": [
    "yp = model.predict(X_test)"
   ]
  },
  {
   "cell_type": "code",
   "execution_count": 108,
   "metadata": {},
   "outputs": [
    {
     "data": {
      "text/plain": [
       "array([[0.06488474],\n",
       "       [0.06677993],\n",
       "       [0.06985746],\n",
       "       [0.07146972],\n",
       "       [0.16352826]], dtype=float32)"
      ]
     },
     "execution_count": 108,
     "metadata": {},
     "output_type": "execute_result"
    }
   ],
   "source": [
    "yp[:5]"
   ]
  },
  {
   "cell_type": "code",
   "execution_count": 109,
   "metadata": {},
   "outputs": [],
   "source": [
    "y_pred = []\n",
    "for element in yp:\n",
    "    if element > 0.5:\n",
    "        y_pred.append(1)\n",
    "    else:\n",
    "        y_pred.append(0)"
   ]
  },
  {
   "cell_type": "code",
   "execution_count": 110,
   "metadata": {},
   "outputs": [
    {
     "data": {
      "text/plain": [
       "[0, 0, 0, 0, 0]"
      ]
     },
     "execution_count": 110,
     "metadata": {},
     "output_type": "execute_result"
    }
   ],
   "source": [
    "y_pred[:5]"
   ]
  },
  {
   "cell_type": "code",
   "execution_count": 111,
   "metadata": {},
   "outputs": [
    {
     "name": "stdout",
     "output_type": "stream",
     "text": [
      "              precision    recall  f1-score   support\n",
      "\n",
      "           0       0.84      0.97      0.90      1595\n",
      "           1       0.67      0.27      0.39       405\n",
      "\n",
      "    accuracy                           0.82      2000\n",
      "   macro avg       0.75      0.62      0.64      2000\n",
      "weighted avg       0.80      0.82      0.79      2000\n",
      "\n"
     ]
    }
   ],
   "source": [
    "from sklearn.metrics import confusion_matrix , classification_report\n",
    "\n",
    "print(classification_report(y_test,y_pred))"
   ]
  },
  {
   "cell_type": "code",
   "execution_count": 46,
   "metadata": {},
   "outputs": [
    {
     "data": {
      "text/plain": [
       "Text(69.0, 0.5, 'Truth')"
      ]
     },
     "execution_count": 46,
     "metadata": {},
     "output_type": "execute_result"
    },
    {
     "data": {
      "image/png": "[encoded data removed]",
      "text/plain": [
       "<Figure size 720x504 with 2 Axes>"
      ]
     },
     "metadata": {
      "needs_background": "light"
     },
     "output_type": "display_data"
    }
   ],
   "source": [
    "import seaborn as sn\n",
    "cm = tf.math.confusion_matrix(labels=y_test,predictions=y_pred)\n",
    "\n",
    "plt.figure(figsize = (10,7))\n",
    "sn.heatmap(cm, annot=True, fmt='d')\n",
    "plt.xlabel('Predicted')\n",
    "plt.ylabel('Truth')"
   ]
  },
  {
   "cell_type": "code",
   "execution_count": null,
   "metadata": {},
   "outputs": [],
   "source": []
  }
 ],
 "metadata": {
  "kernelspec": {
   "display_name": "Python 3",
   "language": "python",
   "name": "python3"
  },
  "language_info": {
   "codemirror_mode": {
    "name": "ipython",
    "version": 3
   },
   "file_extension": ".py",
   "mimetype": "text/x-python",
   "name": "python",
   "nbconvert_exporter": "python",
   "pygments_lexer": "ipython3",
   "version": "3.7.4"
  }
 },
 "nbformat": 4,
 "nbformat_minor": 2
}
